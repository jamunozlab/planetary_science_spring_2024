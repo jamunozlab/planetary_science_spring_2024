{
  "nbformat": 4,
  "nbformat_minor": 0,
  "metadata": {
    "colab": {
      "provenance": [],
      "authorship_tag": "ABX9TyOafCDBnQbgnFpMVx5joLsl",
      "include_colab_link": true
    },
    "kernelspec": {
      "name": "python3",
      "display_name": "Python 3"
    },
    "language_info": {
      "name": "python"
    }
  },
  "cells": [
    {
      "cell_type": "markdown",
      "metadata": {
        "id": "view-in-github",
        "colab_type": "text"
      },
      "source": [
        "<a href=\"https://colab.research.google.com/github/jamunozlab/planetary_science_spring_2024/blob/main/mini_project_01/titan_fluvial_features.ipynb\" target=\"_parent\"><img src=\"https://colab.research.google.com/assets/colab-badge.svg\" alt=\"Open In Colab\"/></a>"
      ]
    },
    {
      "cell_type": "markdown",
      "source": [
        "## Objective\n",
        "\n",
        "We use this notebook to demonstrate certain functionalities of Google Colab and introduce some useful python packages by experimenting with the parameters of an equation that estimates volumetric flux in a channel."
      ],
      "metadata": {
        "id": "zRWjtTs1-zJO"
      }
    },
    {
      "cell_type": "markdown",
      "source": [
        "## Volumetric flux equation\n",
        "\n",
        "The volumetric flux of fluid in a channel (for example a river), with the simplifying assumptions discussed in *Fluvial features on Titan: Insights from morphology and modeling* by Burr et al., is given by:\n",
        "\n",
        ".\n",
        "\n",
        "$Q = wh \\left( \\frac{ghS}{C_f} \\right)^{1/2}$ ,\n",
        "\n",
        ".\n",
        "\n",
        "where $w$ and $h$ are the width and depth of the channel, respectively, $g$ is the acceleration due to gravity, $S$ is the slope of the channel, and $C_f$ is an empirical coefficient of friction.\n",
        "\n",
        "## Analysis and interpretation\n",
        "\n",
        "The product of $w$ and $h$ is the area of the rectangle that approximates the cross-sectional area of the channel, while the term in parenthesis is the square of a velocity. Taking the square-root of the latter produces a plain velocity, which is a length per unit time. The product of this length times and the cross-sectional area is the volume of a cuboid, so $Q$ is a volume per unit time, e.g., cubic meters per second, as expected from a flux.\n",
        "\n",
        ".\n",
        "\n",
        "To show that the term in parenthesis is a squared velocity, notice that the definition of slope is \"rise over run\" and that the directions of the \"rise\" and \"run\" are orthogonal. If $h$ is the \"run,\" then the displacement of the cross-section $hS$ is the \"rise.\" It makes sense to assume that the displacement of water is due to gravity, so we can use the following kinematic equation:\n",
        "\n",
        ".\n",
        "\n",
        "$v^2 = v_0^2 + 2 a \\Delta x = v_0^2 + 2 g hS $ , so $g hS = \\frac{1}{2} (v^2 - v_0^2 ) = \\frac{1}{2} \\Delta v^2$ .\n",
        "\n",
        ".\n",
        "\n",
        "Although we have an extra factor of 1/2, we can absorb it into the definition of $C_f$, which is a parameter. The coefficient of friction is defined as:\n",
        "\n",
        ".\n",
        "\n",
        "$C_f = \\frac{1}{(8.1 \\times (h/k_s)^{1/6})^{1/2}}$ ,\n",
        "\n",
        ".\n",
        "\n",
        "where $k_s$ is 2.5 times the size of the grains that hinder the flow. Notice that the maximum grain size is of the same order of magnitude as the channel depth, otherwise it would completely stop the flow, so in the limit of large grain size, $h/k_s \\approx 1$ and $C_f \\approx 1$. On the other hand, if $k_s$ tends to zero, then $h/k_s → ∞$ and $C_f → 0$."
      ],
      "metadata": {
        "id": "DlkbHKclmnbl"
      }
    },
    {
      "cell_type": "code",
      "source": [
        "# CODE GOES HERE"
      ],
      "metadata": {
        "id": "8aacWviiTCwH"
      },
      "execution_count": null,
      "outputs": []
    },
    {
      "cell_type": "code",
      "source": [
        "# For grain diameter of 5 cm, methane, on Titan\n",
        "# print channel depth in meters\n",
        "\n",
        "rho = 450 # kg/m^3\n",
        "g = 1.35 # m/s^2\n",
        "for tau in [5e4, 2e6]:\n",
        "  for s in [0.0001, 0.03]:\n",
        "    h = tau / (rho * g * s)\n",
        "    print(h, tau, s)"
      ],
      "metadata": {
        "colab": {
          "base_uri": "https://localhost:8080/"
        },
        "id": "2J1_fWI7Irs6",
        "outputId": "c6b219f5-ce75-45a4-e6af-06cf5ddcd93a"
      },
      "execution_count": 7,
      "outputs": [
        {
          "output_type": "stream",
          "name": "stdout",
          "text": [
            "823045.2674897119 50000.0 0.0001\n",
            "2743.4842249657067 50000.0 0.03\n",
            "32921810.699588474 2000000.0 0.0001\n",
            "109739.36899862827 2000000.0 0.03\n"
          ]
        }
      ]
    },
    {
      "cell_type": "code",
      "source": [
        "# For grain diameter of 1 cm, methane, on Titan\n",
        "# print channel depth in meters\n",
        "\n",
        "rho = 450 # kg/m^3\n",
        "g = 1.35 # m/s^2\n",
        "for tau in [1e4, 5e5]:\n",
        "  for s in [0.0001, 0.03]:\n",
        "    h = tau / (rho * g * s)\n",
        "    print(h, tau, s)"
      ],
      "metadata": {
        "colab": {
          "base_uri": "https://localhost:8080/"
        },
        "id": "HBodI2BzRaKi",
        "outputId": "40a0605f-9020-4e4e-bc34-be7d0650b8ef"
      },
      "execution_count": 9,
      "outputs": [
        {
          "output_type": "stream",
          "name": "stdout",
          "text": [
            "164609.05349794237 10000.0 0.0001\n",
            "548.6968449931413 10000.0 0.03\n",
            "8230452.6748971185 500000.0 0.0001\n",
            "27434.842249657067 500000.0 0.03\n"
          ]
        }
      ]
    },
    {
      "cell_type": "markdown",
      "source": [
        "The depth $h$ is in meters:\n",
        "\n",
        "$\\frac{\\frac{N}{m^2}}{\\frac{kg}{m^3}\\frac{m}{s^2}}$\n",
        "\n",
        "$\\frac{\\frac{N}{1}}{\\frac{kg}{1}\\frac{1}{s^2}}$\n",
        "\n",
        "$\\frac{\\frac{kg m}{s^2}}{\\frac{kg}{s^2}}$\n",
        "\n",
        "$m$"
      ],
      "metadata": {
        "id": "N-Nty4PYQTMX"
      }
    }
  ]
}