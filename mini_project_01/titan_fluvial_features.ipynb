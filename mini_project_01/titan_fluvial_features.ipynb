{
  "nbformat": 4,
  "nbformat_minor": 0,
  "metadata": {
    "colab": {
      "provenance": [],
      "authorship_tag": "ABX9TyO8RCCOS3/MWTiN6sV6fbPk",
      "include_colab_link": true
    },
    "kernelspec": {
      "name": "python3",
      "display_name": "Python 3"
    },
    "language_info": {
      "name": "python"
    }
  },
  "cells": [
    {
      "cell_type": "markdown",
      "metadata": {
        "id": "view-in-github",
        "colab_type": "text"
      },
      "source": [
        "<a href=\"https://colab.research.google.com/github/jamunozlab/planetary_science_spring_2024/blob/main/mini_project_01/titan_fluvial_features.ipynb\" target=\"_parent\"><img src=\"https://colab.research.google.com/assets/colab-badge.svg\" alt=\"Open In Colab\"/></a>"
      ]
    },
    {
      "cell_type": "markdown",
      "source": [
        "# Objective\n",
        "\n",
        "We use this notebook to 1) demonstrate basic functionalities of Google Colab and 2) very briefly introduce some useful python packages. You will interact with a simple mathematical model (an equation) to calculate volumetric flux in a fluvial channel, mainly by using python code to experiment with different possible values of the model parameters."
      ],
      "metadata": {
        "id": "zRWjtTs1-zJO"
      }
    },
    {
      "cell_type": "markdown",
      "source": [
        "# Physics intuition for the volumetric flux equation\n",
        "\n",
        "The volumetric flux of fluid in a channel (for example a river), with the simplifying assumptions discussed in *Fluvial features on Titan: Insights from morphology and modeling* by Burr et al., is given by:\n",
        "\n",
        ".\n",
        "\n",
        "$Q = wh \\left( \\frac{ghS}{C_f} \\right)^{1/2}$ ,\n",
        "\n",
        ".\n",
        "\n",
        "where $w$ and $h$ are the width and depth of the channel, respectively, $g$ is the acceleration due to gravity, $S$ is the slope of the channel, and $C_f$ is an empirical coefficient of friction.\n",
        "\n",
        "### Analysis and interpretation\n",
        "\n",
        "The product of $w$ and $h$ is the area of the rectangle that approximates the cross-sectional area of the channel, while the term in parenthesis is the square of a velocity. Taking the square-root of the latter produces a plain velocity, which is a length per unit time. The product of this length times and the cross-sectional area is the volume of a cuboid, so $Q$ is a volume per unit time, e.g., cubic meters per second, as expected from a flux.\n",
        "\n",
        ".\n",
        "\n",
        "To show that the term in parenthesis is a squared velocity, notice that the definition of slope is \"rise over run\" and that the directions of the \"rise\" and \"run\" are orthogonal. If $h$ is the \"run,\" then the displacement of the cross-section $hS$ is the \"rise.\" It makes sense to assume that the displacement of water is due to gravity, so we can use the following kinematic equation:\n",
        "\n",
        ".\n",
        "\n",
        "$v^2 = v_0^2 + 2 a \\Delta x = v_0^2 + 2 g hS $ , so $g hS = \\frac{1}{2} (v^2 - v_0^2 ) = \\frac{1}{2} \\Delta v^2$ .\n",
        "\n",
        ".\n",
        "\n",
        "Although we have an extra factor of 1/2, we can absorb it into the definition of $C_f$, which is a parameter. The coefficient of friction is defined as:\n",
        "\n",
        ".\n",
        "\n",
        "$C_f = \\frac{1}{(8.1 \\times (h/k_s)^{1/6})^{1/2}}$ ,\n",
        "\n",
        ".\n",
        "\n",
        "where $k_s$ is 2.5 times the size of the grains that hinder the flow. Notice that the maximum grain size is of the same order of magnitude as the channel depth, otherwise it would completely stop the flow, so in the limit of large grain size, $h/k_s \\approx 1$ and $C_f \\approx 1$. On the other hand, if $k_s$ tends to zero, then $h/k_s → ∞$ and $C_f → 0$."
      ],
      "metadata": {
        "id": "DlkbHKclmnbl"
      }
    },
    {
      "cell_type": "markdown",
      "source": [
        "# Problem statement\n",
        "\n",
        "In science, we develop and use predictive models to capture the relationships between any relevant set of quantities that can be measured. Models typically consist of one or more equations, but not all models use equations. Darwinian evolution, for example, is easier to express as a set of instructions (an algorithm).\n",
        "\n",
        ".\n",
        "\n",
        "The scientific method is a feedback loop between experiments and models. Experimental results are interpreted with models, and the survival of each model depends on how accurately it predicts experimental results. On the other hand, models are augmented or even replaced when experimental results uncover previosly unknown relationships.\n",
        "\n",
        ".\n",
        "\n",
        "A consequence of putting models to compete against each other in an evolutionary landscape is that the surviving models are extremely well-adapted at describing reality, and perhaps even explain it. Consider conservation of energy: after two centuries, hundreds of thousands of researchers, and hundreds of experiments per researcher-lifetime, no breakdown of this principle has ever been observed.\n",
        "\n",
        ".\n",
        "\n",
        "Models and experiments are the bread and butter of science, but they have limitations. A common one for models include implementing simplifying assumptions that are too agressive. For both models and experiments, understanding the processes that influence how the data is probabilistically distributed and eventually captured, and what is the true uncertainty of the results. Here we deal with a simpler but related situation: you have a range of values you would like to test, but you have only one equation.\n"
      ],
      "metadata": {
        "id": "w85FStWENQMK"
      }
    },
    {
      "cell_type": "markdown",
      "source": [
        "# Instructions\n",
        "\n",
        "Evaluate the cells below by clicking on the 'play' button that appears on the top left of each cell, or by typing shift+return. The comments provide a pretty detailed explanation."
      ],
      "metadata": {
        "id": "ZkoZvGiunBVr"
      }
    },
    {
      "cell_type": "code",
      "source": [
        "# numpy provides arrays and lots of mathematical functions, methods, etc.\n",
        "# pandas is an easy and powerful way to deal with datasets\n",
        "# In this particular notebook we use it only to plot, though\n",
        "\n",
        "import numpy as np\n",
        "import pandas as pd"
      ],
      "metadata": {
        "id": "8aacWviiTCwH"
      },
      "execution_count": 2,
      "outputs": []
    },
    {
      "cell_type": "code",
      "source": [
        "# Assingment 1, Problem 4d: calculate the volumetric flux needed to move\n",
        "# ice pebbles on Titan if the fluid is liquid methane (equation provided in problem)\n",
        "\n",
        "# Below are the equation variables and potential values to be investigated:\n",
        "# width w - range from 0.5 km to 10 km mentioned in problem\n",
        "# slope S = 0.001\n",
        "# acceleration due to gravity g = 1.35 m/s^2\n",
        "# grain size k_s - we will do 1 cm, 5 cm, and 10 cm\n",
        "# density rho = 450 kg/m^3\n",
        "# depth h - depends on the grain size according to the plot in the problem\n",
        "## for 1 cm = 10 mm, h is between 1.6e-1 m and 1.1e1 m\n",
        "## for 5 cm = 50 mm, h is between 1.2e0 m and 1.0e1 m\n",
        "## for 10 cm = 100 mm, h is between 1.5e0 m and 1.0e3 m\n",
        "\n",
        "# Do it for a single set of parameters, listed below\n",
        "# Make sure units are consistent/compatible\n",
        "\n",
        "rho = 450 # kg/m^3\n",
        "g = 1.35 # m/s^2\n",
        "s = 0.001 # unitless\n",
        "w = 500 # meters\n",
        "d = 0.05 # meters\n",
        "k_s = 2.5*d # meters\n",
        "h = 1.2e0 #meters\n",
        "\n",
        "# Compute the coefficient of friction for the set\n",
        "c_f = (8.1*(h/k_s)**(1/6))**(-1/2)\n",
        "\n",
        "# Compute the volumetric flux and print the result\n",
        "Q = w*h*((g*h*s)/c_f)**(1/2)\n",
        "print('Volumetric flux is:', Q, 'm^3/s')\n",
        "\n",
        "# Notice that the procedure to compute the volumetric flux is always the same\n",
        "# but the parameters can acquire different values to desctribe distinct situations.\n"
      ],
      "metadata": {
        "id": "2J1_fWI7Irs6"
      },
      "execution_count": null,
      "outputs": []
    },
    {
      "cell_type": "code",
      "source": [
        "# Computers excel at repetitive tasks, let's start with the channel width\n",
        "# Create an array with values from 0.5 km to 10 km in steps of 0.5 km\n",
        "# using the method arange from the package numpy, and print it.\n",
        "\n",
        "width_array = np.arange(500, 10001, 500)\n",
        "print(width_array)"
      ],
      "metadata": {
        "id": "9cN2spqvbv58"
      },
      "execution_count": null,
      "outputs": []
    },
    {
      "cell_type": "code",
      "source": [
        "# We will use each of the values in the array to run the code by putting\n",
        "# everything, almost verbatim inside of a foor loop\n",
        "# The only change is that the variable w adopts a different value from the array\n",
        "\n",
        "for width in width_array:\n",
        "  rho = 450 # kg/m^3\n",
        "  g = 1.35 # m/s^2\n",
        "  s = 0.001 # unitless\n",
        "  w = width # meters\n",
        "  d = 0.05 # meters\n",
        "  k_s = 2.5*d # meters\n",
        "  h = 1.2e0 #meters\n",
        "\n",
        "  # Compute the coefficient of friction for the set\n",
        "  c_f = (8.1*(h/k_s)**(1/6))**(-1/2)\n",
        "\n",
        "  # Compute the volumetric flux and print the result\n",
        "  Q = w*h*((g*h*s)/c_f)**(1/2)\n",
        "  print('Volumetric flux is:', Q, 'm^3/s for width:', w, 'm'),\n"
      ],
      "metadata": {
        "id": "AW3Obv2TycnE"
      },
      "execution_count": null,
      "outputs": []
    },
    {
      "cell_type": "code",
      "source": [
        "# To plot the results, save the computed flux for each iteration\n",
        "# One way to do this is to create an array containing 20 zeros\n",
        "# and replace the zeros with the for loop results\n",
        "\n",
        "flux_array = np.zeros(20)\n",
        "print(flux_array)"
      ],
      "metadata": {
        "id": "zHKAD0LezzyS"
      },
      "execution_count": null,
      "outputs": []
    },
    {
      "cell_type": "code",
      "source": [
        "# We assign values by specifying the position in the array and the value\n",
        "# Notice that python starts to count from zero, so index=2 gives you the third element\n",
        "flux_array[2] = 800\n",
        "print(flux_array)"
      ],
      "metadata": {
        "id": "_xydrCzK1zaV"
      },
      "execution_count": null,
      "outputs": []
    },
    {
      "cell_type": "code",
      "source": [
        "# the method 'enumerate' provides the position in the array and the value\n",
        "for index, width in enumerate(width_array):\n",
        "  print(index, width)"
      ],
      "metadata": {
        "id": "vUaz2gQN1WX0"
      },
      "execution_count": null,
      "outputs": []
    },
    {
      "cell_type": "code",
      "source": [
        "# We combine everything (what changed?)\n",
        "for index, width in enumerate(width_array):\n",
        "  rho = 450 # kg/m^3\n",
        "  g = 1.35 # m/s^2\n",
        "  s = 0.001 # unitless\n",
        "  w = width # meters\n",
        "  d = 0.05 # meters\n",
        "  k_s = 2.5*d # meters\n",
        "  h = 1.2e0 #meters\n",
        "\n",
        "  # Compute the coefficient of friction for the set\n",
        "  c_f = (8.1*(h/k_s)**(1/6))**(-1/2)\n",
        "\n",
        "  # Compute the volumetric flux and print the result\n",
        "  Q = w*h*((g*h*s)/c_f)**(1/2)\n",
        "\n",
        "  print('Volumetric flux is:', Q, 'm^3/s for width:', w)\n",
        "  flux_array[index] = Q"
      ],
      "metadata": {
        "id": "Hz40RAdX1EKt"
      },
      "execution_count": null,
      "outputs": []
    },
    {
      "cell_type": "code",
      "source": [
        "# Now flux_array has the numbers we want\n",
        "print(flux_array)"
      ],
      "metadata": {
        "id": "TpzROa3w2wsr"
      },
      "execution_count": null,
      "outputs": []
    },
    {
      "cell_type": "code",
      "source": [
        "# Use pandas to plot the results, we will learn more about it in the future\n",
        "# We can confirm that all other things being equal, the flux increases linearly\n",
        "# with the width, as expect from the flux equation\n",
        "\n",
        "pd.Series(flux_array, index=width_array).plot(xlabel='width (m)', ylabel='volumetric flux (m^3/s)')"
      ],
      "metadata": {
        "id": "KiZ6qI3D22ND"
      },
      "execution_count": null,
      "outputs": []
    },
    {
      "cell_type": "code",
      "source": [
        "# The minimum depth is a function of the grain size, as shown in the assignment\n",
        "# We can use a slightly more complicated version of the array to input this data\n",
        "\n",
        "size_depth_array = np.array([[0.01,1.6e-1],[0.05,1.2e0],[0.10,1.5e0]])\n",
        "print(size_depth_array)"
      ],
      "metadata": {
        "id": "NOKNtat93F47"
      },
      "execution_count": null,
      "outputs": []
    },
    {
      "cell_type": "code",
      "source": [
        "# And recover everything using a 'for loop'\n",
        "for size, depth in size_depth_array:\n",
        "  print(size, depth)"
      ],
      "metadata": {
        "id": "jiWakpDX-XjA"
      },
      "execution_count": null,
      "outputs": []
    },
    {
      "cell_type": "code",
      "source": [
        "# Combine everything in a 'nested for loop' to get everything in one go\n",
        "# (What changed?)\n",
        "for size, depth in size_depth_array:\n",
        "  print('For grain size:', size, 'meters corresponding to minimum depth:', depth, 'meters')\n",
        "  for index_width, width in enumerate(width_array):\n",
        "    rho = 450 # kg/m^3\n",
        "    g = 1.35 # m/s^2\n",
        "    s = 0.001 # unitless\n",
        "    w = width # meters\n",
        "    d = size # meters\n",
        "    k_s = 2.5*d # meters\n",
        "    h = depth #meters\n",
        "\n",
        "    # Compute the coefficient of friction for the set\n",
        "    c_f = (8.1*(h/k_s)**(1/6))**(-1/2)\n",
        "\n",
        "    # Compute the volumetric flux and print the result\n",
        "    Q = w*h*((g*h*s)/c_f)**(1/2)\n",
        "\n",
        "    print('   Volumetric flux is:', Q, 'm^3/s for width:', w, 'm')\n",
        "    flux_array[index_width] = Q\n",
        "  print('') # Leave a space in between results for different grain size"
      ],
      "metadata": {
        "id": "nfB2p1ow9mi3"
      },
      "execution_count": null,
      "outputs": []
    },
    {
      "cell_type": "markdown",
      "source": [
        "# Conclusion\n",
        "\n",
        "We wrote python code to run multiple instances of an equation, each instance with a distinct set of parameters. The 'nested for loop' is common in computational science and data analysis, so it is worth spending a bit of time thinking about this if you have not already."
      ],
      "metadata": {
        "id": "lnNwPppwBt_S"
      }
    }
  ]
}