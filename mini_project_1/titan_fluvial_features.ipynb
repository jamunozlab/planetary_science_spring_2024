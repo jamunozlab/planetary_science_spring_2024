{
  "nbformat": 4,
  "nbformat_minor": 0,
  "metadata": {
    "colab": {
      "provenance": [],
      "authorship_tag": "ABX9TyOLd5oSbwe1JRAJKaRNmkn4",
      "include_colab_link": true
    },
    "kernelspec": {
      "name": "python3",
      "display_name": "Python 3"
    },
    "language_info": {
      "name": "python"
    }
  },
  "cells": [
    {
      "cell_type": "markdown",
      "metadata": {
        "id": "view-in-github",
        "colab_type": "text"
      },
      "source": [
        "<a href=\"https://colab.research.google.com/github/jamunozlab/planetary_science_spring_2024/blob/main/mini_project_1/titan_fluvial_features.ipynb\" target=\"_parent\"><img src=\"https://colab.research.google.com/assets/colab-badge.svg\" alt=\"Open In Colab\"/></a>"
      ]
    },
    {
      "cell_type": "markdown",
      "source": [
        "# Objective\n",
        "\n",
        "We use this notebook to 1) demonstrate basic functionalities of Google Colab and 2) very briefly introduce some useful python packages. You will interact with a simple mathematical model (an equation) to calculate volumetric flux in a fluvial channel, mainly by using python code to experiment with different possible values of the model parameters."
      ],
      "metadata": {
        "id": "zRWjtTs1-zJO"
      }
    },
    {
      "cell_type": "markdown",
      "source": [
        "# Physics intuition for the volumetric flux equation\n",
        "\n",
        "The volumetric flux of fluid in a channel (for example a river), with the simplifying assumptions discussed in *Fluvial features on Titan: Insights from morphology and modeling* by Burr et al., is given by:\n",
        "\n",
        ".\n",
        "\n",
        "$Q = wh \\left( \\frac{ghS}{C_f} \\right)^{1/2}$ ,\n",
        "\n",
        ".\n",
        "\n",
        "where $w$ and $h$ are the width and depth of the channel, respectively, $g$ is the acceleration due to gravity, $S$ is the slope of the channel, and $C_f$ is an empirical coefficient of friction.\n",
        "\n",
        "### Analysis and interpretation\n",
        "\n",
        "The product of $w$ and $h$ is the area of the rectangle that approximates the cross-sectional area of the channel, while the term in parenthesis is the square of a velocity. Taking the square-root of the latter produces a plain velocity, which is a length per unit time. The product of this length times and the cross-sectional area is the volume of a cuboid, so $Q$ is a volume per unit time, e.g., cubic meters per second, as expected from a flux.\n",
        "\n",
        ".\n",
        "\n",
        "To show that the term in parenthesis is a squared velocity, notice that the definition of slope is \"rise over run\" and that the directions of the \"rise\" and \"run\" are orthogonal. If $h$ is the \"run,\" then the displacement of the cross-section $hS$ is the \"rise.\" It makes sense to assume that the displacement of water is due to gravity, so we can use the following kinematic equation:\n",
        "\n",
        ".\n",
        "\n",
        "$v^2 = v_0^2 + 2 a \\Delta x = v_0^2 + 2 g hS $ , so $g hS = \\frac{1}{2} (v^2 - v_0^2 ) = \\frac{1}{2} \\Delta v^2$ .\n",
        "\n",
        ".\n",
        "\n",
        "Although we have an extra factor of 1/2, we can absorb it into the definition of $C_f$, which is a parameter. The coefficient of friction is defined as:\n",
        "\n",
        ".\n",
        "\n",
        "$C_f = \\frac{1}{(8.1 \\times (h/k_s)^{1/6})^{1/2}}$ ,\n",
        "\n",
        ".\n",
        "\n",
        "where $k_s$ is 2.5 times the size of the grains that hinder the flow. Notice that the maximum grain size is of the same order of magnitude as the channel depth, otherwise it would completely stop the flow, so in the limit of large grain size, $h/k_s \\approx 1$ and $C_f \\approx 1$. On the other hand, if $k_s$ tends to zero, then $h/k_s → ∞$ and $C_f → 0$."
      ],
      "metadata": {
        "id": "DlkbHKclmnbl"
      }
    },
    {
      "cell_type": "markdown",
      "source": [
        "# Problem statement\n",
        "\n",
        "In science, we develop and use predictive models to capture the relationships between any relevant set of quantities that can be measured. Models typically consist of one or more equations, but not all models use equations. Darwinian evolution, for example, is easier to express as a set of instructions (an algorithm).\n",
        "\n",
        ".\n",
        "\n",
        "The scientific method is a feedback loop between experiments and models. Experimental results are interpreted with models, and the survival of each model depends on how accurately it predicts experimental results. On the other hand, models are augmented or even replaced when experimental results uncover previosly unknown relationships.\n",
        "\n",
        ".\n",
        "\n",
        "A consequence of putting models to compete against each other in an evolutionary landscape is that the surviving models are extremely well-adapted at describing reality, and perhaps even explain it. Consider conservation of energy: after two centuries, hundreds of thousands of researchers, and hundreds of experiments per researcher-lifetime, no breakdown of this principle has ever been observed.\n",
        "\n",
        ".\n",
        "\n",
        "Models and experiments are the bread and butter of science, but they have limitations. A common one for models include implementing simplifying assumptions that are too agressive. For both models and experiments, understanding the processes that influence how the data is probabilistically distributed and eventually captured, and what is the true uncertainty of the results. Here we deal with a simpler but related situation: you have a range of values you would like to test, but you have only one equation.\n"
      ],
      "metadata": {
        "id": "w85FStWENQMK"
      }
    },
    {
      "cell_type": "markdown",
      "source": [
        "# Instructions\n",
        "\n",
        "Evaluate the cells below and read the comments (in green)."
      ],
      "metadata": {
        "id": "ZkoZvGiunBVr"
      }
    },
    {
      "cell_type": "code",
      "source": [
        "# numpy provides arrays and lots of mathematical functions, methods, etc.\n",
        "# pandas is an easy and powerful way to deal with datasets\n",
        "# In this particular notebook we use it only to plot, though\n",
        "\n",
        "import numpy as np\n",
        "import pandas as pd"
      ],
      "metadata": {
        "id": "8aacWviiTCwH"
      },
      "execution_count": null,
      "outputs": []
    },
    {
      "cell_type": "code",
      "source": [
        "# Assingment 1, Problem 4d: calculate the volumetric flux needed to move\n",
        "# ice pebbles on Titan if the fluid is liquid methane (equation is given)\n",
        "\n",
        "# Below are the equation variables and potential values to be investigated:\n",
        "# width w - range from 0.5 km to 10 km mentioned in problem\n",
        "# slope S = 0.001\n",
        "# acceleration due to gravity g = 1.35 m/s^2\n",
        "# grain size k_s - problem mentions 5 cm and 15 cm, but we will do 5 cm and 10 cm\n",
        "# density rho = 450 kg/m^3\n",
        "# depth h - depends on the grain size according to the plot in the problem\n",
        "## for 5 cm = 50 mm, h is between 1.2e0 m and 1.0e1 m\n",
        "## for 10 cm = 100 mm, h is between 1.5e0 m and 1.0e3 m\n",
        "## for 15 cm, h outside of the plot\n",
        "\n",
        "# Maybe do it for a set of parameters?\n",
        "\n",
        "rho = 450 # kg/m^3\n",
        "g = 1.35 # m/s^2\n",
        "s = 0.001 # unitless\n",
        "w = 500 # meters\n",
        "k_s =\n",
        "for tau in [5e4, 2e6]:\n",
        "  for s in [0.0001, 0.03]:\n",
        "    h = tau / (rho * g * s)\n",
        "    print(h, tau, s)"
      ],
      "metadata": {
        "colab": {
          "base_uri": "https://localhost:8080/"
        },
        "id": "2J1_fWI7Irs6",
        "outputId": "c6b219f5-ce75-45a4-e6af-06cf5ddcd93a"
      },
      "execution_count": null,
      "outputs": [
        {
          "output_type": "stream",
          "name": "stdout",
          "text": [
            "823045.2674897119 50000.0 0.0001\n",
            "2743.4842249657067 50000.0 0.03\n",
            "32921810.699588474 2000000.0 0.0001\n",
            "109739.36899862827 2000000.0 0.03\n"
          ]
        }
      ]
    },
    {
      "cell_type": "code",
      "source": [
        "# For grain diameter of 1 cm, methane, on Titan\n",
        "# print channel depth in meters\n",
        "\n",
        "rho = 450 # kg/m^3\n",
        "g = 1.35 # m/s^2\n",
        "for tau in [1e4, 5e5]:\n",
        "  for s in [0.0001, 0.03]:\n",
        "    h = tau / (rho * g * s)\n",
        "    print(h, tau, s)"
      ],
      "metadata": {
        "colab": {
          "base_uri": "https://localhost:8080/"
        },
        "id": "HBodI2BzRaKi",
        "outputId": "40a0605f-9020-4e4e-bc34-be7d0650b8ef"
      },
      "execution_count": null,
      "outputs": [
        {
          "output_type": "stream",
          "name": "stdout",
          "text": [
            "164609.05349794237 10000.0 0.0001\n",
            "548.6968449931413 10000.0 0.03\n",
            "8230452.6748971185 500000.0 0.0001\n",
            "27434.842249657067 500000.0 0.03\n"
          ]
        }
      ]
    },
    {
      "cell_type": "markdown",
      "source": [
        "The depth $h$ is in meters:\n",
        "\n",
        "$\\frac{\\frac{N}{m^2}}{\\frac{kg}{m^3}\\frac{m}{s^2}}$\n",
        "\n",
        "$\\frac{\\frac{N}{1}}{\\frac{kg}{1}\\frac{1}{s^2}}$\n",
        "\n",
        "$\\frac{\\frac{kg m}{s^2}}{\\frac{kg}{s^2}}$\n",
        "\n",
        "$m$"
      ],
      "metadata": {
        "id": "N-Nty4PYQTMX"
      }
    },
    {
      "cell_type": "code",
      "source": [],
      "metadata": {
        "id": "4VNFrsSQNOy1"
      },
      "execution_count": null,
      "outputs": []
    }
  ]
}