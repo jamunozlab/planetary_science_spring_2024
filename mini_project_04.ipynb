{
  "nbformat": 4,
  "nbformat_minor": 0,
  "metadata": {
    "colab": {
      "provenance": [],
      "authorship_tag": "ABX9TyPDT5KUkCygF6FN3fUpRPsE",
      "include_colab_link": true
    },
    "kernelspec": {
      "name": "python3",
      "display_name": "Python 3"
    },
    "language_info": {
      "name": "python"
    }
  },
  "cells": [
    {
      "cell_type": "markdown",
      "metadata": {
        "id": "view-in-github",
        "colab_type": "text"
      },
      "source": [
        "<a href=\"https://colab.research.google.com/github/jamunozlab/planetary_science_spring_2024/blob/main/mini_project_04.ipynb\" target=\"_parent\"><img src=\"https://colab.research.google.com/assets/colab-badge.svg\" alt=\"Open In Colab\"/></a>"
      ]
    },
    {
      "cell_type": "markdown",
      "source": [
        "# Kepler exoplanets\n",
        "\n",
        "Kepler-10b is the first rocky planet detected by the Kepler Space Telescope, a NASA mission launched in March 2009 and deactivated in November 2018. Kepler-10b has been confirmed by the W. M. Keck Telescope in Hawaii. It orbits the star Kepler-10.\n",
        "\n",
        "In this mini project, you will download and analyze the light intensity measurements from Kepler that led to the detection of Kepler-10b. The packages and the code needed to perform the analysis are provided, but you are asked to qualitatively explain what the analysis methods do to the data. You are also asked to provide a quantitative estimate of the radius of Kepler-10b and explore data for star Kepler-20.\n",
        "\n",
        "For a quick introduction to Kepler and Kepler-10, watch this [YouTube video](https://www.youtube.com/watch?v=S5ZJEiGOHTo)."
      ],
      "metadata": {
        "id": "QZivQw73qwpC"
      }
    },
    {
      "cell_type": "code",
      "source": [
        "# Evaluate this cell to download and install ligthkurve\n",
        "# This will be used to access and manipulated Kepler data\n",
        "# You will see a bunch of messages, worry you must not\n",
        "# It is only temporarily intalled on your Google Drive (not local machine)\n",
        "! python -m pip install lightkurve --upgrade"
      ],
      "metadata": {
        "id": "3QwIibhrmNoA"
      },
      "execution_count": null,
      "outputs": []
    },
    {
      "cell_type": "code",
      "source": [
        "# Import the packages we need for this mini project\n",
        "import lightkurve as lk\n",
        "import numpy as np\n",
        "import matplotlib as plt\n",
        "import pandas as pd"
      ],
      "metadata": {
        "id": "7eIAxwYkouhF"
      },
      "execution_count": 4,
      "outputs": []
    },
    {
      "cell_type": "code",
      "source": [
        "# Download the data for star Kepler-10\n",
        "# The data is stored in a variable called \"data\"\n",
        "# Kindly ignore warning messages\n",
        "data = lk.search_targetpixelfile(\"Kepler-10\", author=\"Kepler\", cadence=\"long\").download()"
      ],
      "metadata": {
        "id": "CwjLPxv6mp50"
      },
      "execution_count": null,
      "outputs": []
    },
    {
      "cell_type": "code",
      "source": [
        "# Plot a single frame (snapshot) of kepler-10\n",
        "# Look at different frames and determine whether there are differences\n",
        "# What are the units?\n",
        "data.plot(frame=50, scale='log', show_colorbar=True);"
      ],
      "metadata": {
        "id": "s6P_6-A6laQJ"
      },
      "execution_count": null,
      "outputs": []
    },
    {
      "cell_type": "code",
      "source": [
        "# The aperture information is part of the data you downloaded\n",
        "# It is store in the variable \"data.pipeline_mask\"\n",
        "# What does the method \"to_lightcurve()\" do to the data?\n",
        "lc = data.to_lightcurve(aperture_mask=data.pipeline_mask)\n",
        "lc.plot();"
      ],
      "metadata": {
        "id": "DwYXx9KylzAJ"
      },
      "execution_count": null,
      "outputs": []
    },
    {
      "cell_type": "code",
      "source": [
        "# \"flatten()\" is a method to make the data smoother using a Savitzky–Golay filter\n",
        "# This increases the precision without distorting the signal\n",
        "# The red line shows the smoothed out data\n",
        "# Run this part of the code with different values of the parameter \"window_length\"\n",
        "# What qualitative and quantitative differences does it make on your analysis?\n",
        "flat, trend = lc.flatten(window_length=51, return_trend=True)\n",
        "ax = lc.errorbar(label=\"Kepler-10\")\n",
        "trend.plot(ax=ax, color='red', lw=2, label='Trend');"
      ],
      "metadata": {
        "id": "tXFX5eKpl8Ec"
      },
      "execution_count": null,
      "outputs": []
    },
    {
      "cell_type": "code",
      "source": [
        "# The variable \"flat\" holds the difference between the raw data and the trend\n",
        "pd.Series(flat.flux, index=flat.time).plot(ylim=(0.9995, 1.0005), ylabel=\"Flux [e-/s]\", xlabel=\"Time [days]\") #.flux(label=\"Kepler-10\");"
      ],
      "metadata": {
        "id": "dnXg7sXQ7I8l"
      },
      "execution_count": null,
      "outputs": []
    },
    {
      "cell_type": "code",
      "source": [
        "# The variable \"flat\" also holds the error bars\n",
        "flat.errorbar(label=\"Kepler-10\");"
      ],
      "metadata": {
        "id": "-ZgacyWImKUu"
      },
      "execution_count": null,
      "outputs": []
    },
    {
      "cell_type": "code",
      "source": [
        "# \"to_periodogram()\" is a method to transform time series data into a power spectrum\n",
        "# What is a power spectrum? Why is this useful to detect transiting exoplanets?\n",
        "# The Box Least Squares (BLS) method is used to generate the power spectrum\n",
        "# Describe qualitatively the mechanics and function of BLS\n",
        "periodogram = flat.to_periodogram(method=\"bls\", period=np.arange(0.4, 1.8, 0.001))\n",
        "periodogram.plot();"
      ],
      "metadata": {
        "id": "AtSPXBXumO4R"
      },
      "execution_count": null,
      "outputs": []
    },
    {
      "cell_type": "code",
      "source": [
        "# The period at the maximum power is stored in \"periodogram.period_at_max_power\"\n",
        "# For simplicity, we store this value in the variable \"best_fit_period\"\n",
        "# Explain the location of the other peaks in the power spectrum\n",
        "best_fit_period = periodogram.period_at_max_power\n",
        "print('Best fit period: {:.3f}'.format(best_fit_period))"
      ],
      "metadata": {
        "id": "YYs5juRhmU69"
      },
      "execution_count": null,
      "outputs": []
    },
    {
      "cell_type": "code",
      "source": [
        "# The \"fold()\" method folds the data with a given periodicity, in this \"case best_fit_period\"\n",
        "# This makes the visualization of the light intensity dip fairly easy\n",
        "# What happens when you modify the value of the argument \"period\"?\n",
        "flat.fold(period=best_fit_period, epoch_time=periodogram.transit_time_at_max_power).errorbar();"
      ],
      "metadata": {
        "id": "p3UIEllHmacB"
      },
      "execution_count": null,
      "outputs": []
    },
    {
      "cell_type": "markdown",
      "source": [
        "The star Kepler-10 has a radius of 1.065 $R_\\odot$ (where the solar radius $R_\\odot$ = 6.95700 $\\times 10^8$ meters).\n",
        "\n",
        "Based on the normalized flux plot above, what is the radius of planet Kepler-10b? Assume that both Kepler-10 and Kepler-10b are disks.\n",
        "\n",
        "What is the\n",
        "\n",
        "Another [YouTube video](https://www.youtube.com/watch?v=8_k3SoNSgYo), this one about the Kepler-10 system. Enjoy!"
      ],
      "metadata": {
        "id": "B_YR9xvrD8ry"
      }
    }
  ]
}