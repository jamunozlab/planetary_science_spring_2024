{
  "nbformat": 4,
  "nbformat_minor": 0,
  "metadata": {
    "colab": {
      "provenance": [],
      "authorship_tag": "ABX9TyOuoNtB1NrTWDKctzYbK3yq",
      "include_colab_link": true
    },
    "kernelspec": {
      "name": "python3",
      "display_name": "Python 3"
    },
    "language_info": {
      "name": "python"
    }
  },
  "cells": [
    {
      "cell_type": "markdown",
      "metadata": {
        "id": "view-in-github",
        "colab_type": "text"
      },
      "source": [
        "<a href=\"https://colab.research.google.com/github/jamunozlab/planetary_science_spring_2024/blob/main/ellipsis.ipynb\" target=\"_parent\"><img src=\"https://colab.research.google.com/assets/colab-badge.svg\" alt=\"Open In Colab\"/></a>"
      ]
    },
    {
      "cell_type": "markdown",
      "source": [
        "Exercises\n",
        "\n",
        "1. Select a celestial body of your interest, find the orbital parameters, assign them below\n",
        "\n",
        "2. Where is the origin located in the ellipse or circle? The origin is at $(x=0,y=0)$\n",
        "\n",
        "3. Describe the behavior of those points in the scatter that are closer to the origin and of those that are farther away"
      ],
      "metadata": {
        "id": "eDEfM4mnUkYi"
      }
    },
    {
      "cell_type": "code",
      "execution_count": 1,
      "metadata": {
        "id": "Dtk56fqPHhNI"
      },
      "outputs": [],
      "source": [
        "import pandas as pd\n",
        "import numpy as np"
      ]
    },
    {
      "cell_type": "code",
      "source": [
        "# PARAMETERS\n",
        "G = 6.67408e-11  # m3 kg-1 s-2\n",
        "M = 6e24 # kg\n",
        "a = 149.6e9 # semi-major axis for Earth in meters\n",
        "e = 0.016 # eccentricity for Earth (play around with!)\n",
        "#e = 0.56 # eccentricity for Earth (play around with!)\n",
        "L = a * (1-e**2) # m\n",
        "fudge_factor = .15e9"
      ],
      "metadata": {
        "id": "bgrvNx_RR603"
      },
      "execution_count": 2,
      "outputs": []
    },
    {
      "cell_type": "code",
      "source": [
        "# r is a function of the angle phi\n",
        "def r(a, e, phi):\n",
        "  L = a * (1-e**2)\n",
        "  return L / (1 - e*np.cos(phi))"
      ],
      "metadata": {
        "id": "05GV99pjIs5A"
      },
      "execution_count": 3,
      "outputs": []
    },
    {
      "cell_type": "code",
      "source": [
        "# Generate x, y points for an orbit for equally spaced points\n",
        "phi_points = np.linspace(0, 2*np.pi, 200) # equally spaced points\n",
        "x_list = []\n",
        "y_list = []\n",
        "for phi in phi_points:\n",
        "  x = r(a, e, phi) * np.cos(phi)\n",
        "  y = r(a, e, phi) * np.sin(phi)\n",
        "  x_list.append(x)\n",
        "  y_list.append(y)"
      ],
      "metadata": {
        "id": "SG1Yp2r_HkRZ"
      },
      "execution_count": 4,
      "outputs": []
    },
    {
      "cell_type": "code",
      "source": [
        "# This is just to plot\n",
        "df_dict = {}\n",
        "df_dict['x'] = x_list\n",
        "df_dict['y'] = y_list\n",
        "df = pd.DataFrame(df_dict)\n",
        "df.plot(x='x', y='y', kind='scatter')"
      ],
      "metadata": {
        "id": "o9NabHunL2Bk"
      },
      "execution_count": null,
      "outputs": []
    },
    {
      "cell_type": "code",
      "source": [
        "def td_phi_points(phi=0.01):\n",
        "  phi = 0.01\n",
        "  phi_points = [phi]\n",
        "  while phi < 2*np.pi:\n",
        "    change = ((G*M)/L**3)**(1/2) * (1 - e*np.cos(phi))**2\n",
        "    change = change * fudge_factor\n",
        "    phi = phi + change\n",
        "    phi_points.append(phi)\n",
        "  return phi_points"
      ],
      "metadata": {
        "id": "K5SMN_UEM-IK"
      },
      "execution_count": 6,
      "outputs": []
    },
    {
      "cell_type": "code",
      "source": [
        "# Generate x, y points for an orbit for equally spaced points\n",
        "phi_points = td_phi_points()\n",
        "x_list = []\n",
        "y_list = []\n",
        "for phi in phi_points:\n",
        "  x = r(a, e, phi) * np.cos(phi)\n",
        "  y = r(a, e, phi) * np.sin(phi)\n",
        "  x_list.append(x)\n",
        "  y_list.append(y)"
      ],
      "metadata": {
        "id": "w282id9iOmEf"
      },
      "execution_count": 7,
      "outputs": []
    },
    {
      "cell_type": "code",
      "source": [
        "df_dict = {}\n",
        "df_dict['x'] = x_list\n",
        "df_dict['y'] = y_list\n",
        "df = pd.DataFrame(df_dict)\n",
        "df.plot(x='x', y='y', kind='scatter')"
      ],
      "metadata": {
        "id": "XBjugjUUPYxm"
      },
      "execution_count": null,
      "outputs": []
    }
  ]
}